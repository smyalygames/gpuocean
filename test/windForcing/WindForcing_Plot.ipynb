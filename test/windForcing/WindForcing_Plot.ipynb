{
 "cells": [
  {
   "cell_type": "markdown",
   "metadata": {},
   "source": [
    "## Showing how to use different wind fields for only one simulation "
   ]
  },
  {
   "cell_type": "code",
   "execution_count": 1,
   "metadata": {},
   "outputs": [],
   "source": [
    "#Lets have matplotlib \"inline\"\n",
    "%matplotlib inline\n",
    "\n",
    "import os\n",
    "import sys\n",
    "\n",
    "#Import packages we need\n",
    "import numpy as np\n",
    "from netCDF4 import Dataset\n",
    "import datetime\n",
    "from IPython.display import display\n",
    "\n",
    "#For plotting\n",
    "import matplotlib\n",
    "from matplotlib import pyplot as plt"
   ]
  },
  {
   "cell_type": "markdown",
   "metadata": {},
   "source": [
    "GPU Ocean-modules:"
   ]
  },
  {
   "cell_type": "code",
   "execution_count": 2,
   "metadata": {},
   "outputs": [],
   "source": [
    "from gpuocean.SWEsimulators import CDKLM16\n",
    "from gpuocean.utils import IPythonMagic, NetCDFInitialization, Observation, WindStress\n",
    "from gpuocean.utils.Common import BoundaryConditions\n",
    "from gpuocean.utils.gpu import KernelContext\n",
    "from gpuocean.drifters import GPUDrifterCollection\n",
    "from gpuocean.dataassimilation import DataAssimilationUtils as dautils"
   ]
  },
  {
   "cell_type": "markdown",
   "metadata": {},
   "source": [
    "All gpu_ctx have to be generated before any of them is used\n"
   ]
  },
  {
   "cell_type": "code",
   "execution_count": 3,
   "metadata": {},
   "outputs": [],
   "source": [
    "%cuda_context_handler gpu_ctx"
   ]
  },
  {
   "cell_type": "code",
   "execution_count": 4,
   "metadata": {},
   "outputs": [],
   "source": [
    "N_winds = 12"
   ]
  },
  {
   "cell_type": "code",
   "execution_count": 5,
   "metadata": {},
   "outputs": [],
   "source": [
    "gpu_ctx_winds = []\n",
    "for i in range(N_winds):\n",
    "    # Generating new contextes without iPythonMagic requires to reset the kernel every time it crashes \n",
    "    gpu_ctx_winds.append( KernelContext() )"
   ]
  },
  {
   "cell_type": "markdown",
   "metadata": {},
   "source": [
    "Initialise Simulation"
   ]
  },
  {
   "cell_type": "code",
   "execution_count": 6,
   "metadata": {},
   "outputs": [],
   "source": [
    "nx = 100\n",
    "ny = 100\n",
    "\n",
    "dx = 100.0\n",
    "dy = 100.0\n",
    "\n",
    "dt = 0.0\n",
    "g = 9.81\n",
    "f = 0.0\n",
    "r = 0.0\n",
    "\n",
    "ghosts = [2,2,2,2] # north, east, south, west\n",
    "\n",
    "dataShape = (ny + ghosts[0] + ghosts[2], nx + ghosts[1] + ghosts[3])\n",
    "\n",
    "eta0 = np.zeros(dataShape, dtype=np.float32)\n",
    "hu0 = np.zeros(dataShape, dtype=np.float32)\n",
    "hv0 = np.zeros(dataShape, dtype=np.float32)\n",
    "Hi = 10 * np.ones((dataShape[0]+1, dataShape[1]+1), dtype=np.float32, order='C')\n",
    "\n",
    "boundary_conditions = BoundaryConditions(2,2,2,2)\n",
    "\n",
    "T = 600"
   ]
  },
  {
   "cell_type": "code",
   "execution_count": 7,
   "metadata": {},
   "outputs": [],
   "source": [
    "wind_t = np.array([0])\n",
    "wind_u = [np.array([[30]])]\n",
    "wind_v = [np.array([[ 0]])]"
   ]
  },
  {
   "cell_type": "code",
   "execution_count": 8,
   "metadata": {},
   "outputs": [],
   "source": [
    "wind = WindStress.WindStress(t=wind_t, wind_u=np.float32(wind_u), wind_v=np.float32(wind_v))"
   ]
  },
  {
   "cell_type": "code",
   "execution_count": 9,
   "metadata": {},
   "outputs": [],
   "source": [
    "sim = CDKLM16.CDKLM16(gpu_ctx, \\\n",
    "                        eta0, hu0, hv0, Hi, \\\n",
    "                        nx, ny, \\\n",
    "                        dx, dy, dt, \\\n",
    "                        g, f, r, \\\n",
    "                        boundary_conditions=boundary_conditions,\n",
    "                        wind=wind)"
   ]
  },
  {
   "cell_type": "markdown",
   "metadata": {},
   "source": [
    "Initialise Drifters (and fake-Observation objects)"
   ]
  },
  {
   "cell_type": "code",
   "execution_count": 10,
   "metadata": {},
   "outputs": [],
   "source": [
    "import pandas as pd \n",
    "forecasts = N_winds*[pd.DataFrame(columns=[\"time\",\"pos_x\", \"pos_y\"])]"
   ]
  },
  {
   "cell_type": "code",
   "execution_count": 11,
   "metadata": {},
   "outputs": [],
   "source": [
    "wind4drifters = []\n",
    "for i in range(N_winds):\n",
    "    wind4drifters.append( WindStress.WindStress(t=wind_t, wind_u=np.float32([np.array([[10*np.sin(2*np.pi/N_winds*i)]])]), wind_v=np.float32([np.array([[10*np.cos(2*np.pi/N_winds*i)]])])) )"
   ]
  },
  {
   "cell_type": "code",
   "execution_count": 12,
   "metadata": {},
   "outputs": [],
   "source": [
    "drifterSets = []\n",
    "for i in range(N_winds):\n",
    "    drifterSets.append( GPUDrifterCollection.GPUDrifterCollection(gpu_ctx_winds[i], 1,\n",
    "                                                                  wind = wind4drifters[i], wind_drift_factor=0.02,\n",
    "                                                                  boundary_conditions= sim.boundary_conditions,\n",
    "                                                                  domain_size_x =  sim.nx*sim.dx,\n",
    "                                                                  domain_size_y =  sim.ny*sim.dy,\n",
    "                                                                  gpu_stream = sim.gpu_stream) )\n",
    "    drifterSets[i].setDrifterPositions([[int(0.5*ny*dy),int(0.5*ny*dy)]])\n",
    "    drifter_positions = drifterSets[i].getDrifterPositions()[0]\n",
    "    forecasts[i] = forecasts[i].append({\"time\":sim.t, \"pos_x\":drifter_positions[1], \"pos_y\":drifter_positions[0]}, ignore_index=True)"
   ]
  },
  {
   "cell_type": "markdown",
   "metadata": {},
   "source": [
    "Simulate and drift"
   ]
  },
  {
   "cell_type": "code",
   "execution_count": 13,
   "metadata": {},
   "outputs": [],
   "source": [
    "for min in range(T):\n",
    "    dt = 1\n",
    "    sim.step(dt)\n",
    "    for i in range(N_winds):\n",
    "        drifterSets[i].drift(sim.gpu_data.h0, sim.gpu_data.hu0, sim.gpu_data.hv0, \\\n",
    "                        sim.bathymetry.Bm, sim.nx, sim.ny, sim.t, sim.dx, sim.dy, \\\n",
    "                        dt, np.int32(2), np.int32(2))\n",
    "        drifter_positions = drifterSets[i].getDrifterPositions()[0]\n",
    "        forecasts[i] = forecasts[i].append({\"time\":sim.t, \"pos_x\":drifter_positions[0], \"pos_y\":drifter_positions[1]}, ignore_index=True)"
   ]
  },
  {
   "cell_type": "markdown",
   "metadata": {},
   "source": [
    "Results"
   ]
  },
  {
   "cell_type": "code",
   "execution_count": 14,
   "metadata": {},
   "outputs": [],
   "source": [
    "drifter_pathes = []\n",
    "for i in range(N_winds):\n",
    "    drifter_pathes.append( [forecasts[i][\"pos_x\"].to_numpy(), forecasts[i][\"pos_y\"].to_numpy()] )\n"
   ]
  },
  {
   "cell_type": "code",
   "execution_count": 15,
   "metadata": {},
   "outputs": [
    {
     "data": {
      "image/png": "[encoded data removed]",
      "text/plain": [
       "<Figure size 432x288 with 1 Axes>"
      ]
     },
     "metadata": {
      "needs_background": "light"
     },
     "output_type": "display_data"
    }
   ],
   "source": [
    "for i in range(N_winds):\n",
    "    plt.scatter(drifter_pathes[i][0],drifter_pathes[i][1])"
   ]
  },
  {
   "cell_type": "code",
   "execution_count": 16,
   "metadata": {},
   "outputs": [
    {
     "data": {
      "text/plain": [
       "array([4986.3735, 5104.004 ], dtype=float32)"
      ]
     },
     "execution_count": 16,
     "metadata": {},
     "output_type": "execute_result"
    }
   ],
   "source": [
    "drifter_positions"
   ]
  },
  {
   "cell_type": "code",
   "execution_count": 17,
   "metadata": {},
   "outputs": [
    {
     "data": {
      "text/plain": [
       "[[5046.37353515625, 5120.1171875],\n",
       " [5106.373046875, 5104.00390625],\n",
       " [5150.29638671875, 5060.05859375],\n",
       " [5166.3740234375, 5000.0],\n",
       " [5150.29638671875, 4939.94140625],\n",
       " [5106.373046875, 4895.99609375],\n",
       " [5046.37353515625, 4879.8828125],\n",
       " [4986.37353515625, 4895.99609375],\n",
       " [4942.4501953125, 4939.94140625],\n",
       " [4926.373046875, 5000.0],\n",
       " [4942.4501953125, 5060.05859375],\n",
       " [4986.37353515625, 5104.00390625]]"
      ]
     },
     "execution_count": 17,
     "metadata": {},
     "output_type": "execute_result"
    }
   ],
   "source": [
    "reference_points = []\n",
    "for i in range(N_winds):\n",
    "    reference_points.append( [drifter_pathes[i][0][-1], drifter_pathes[i][1][-1]] )\n",
    "\n",
    "reference_points\n"
   ]
  },
  {
   "cell_type": "code",
   "execution_count": 18,
   "metadata": {},
   "outputs": [],
   "source": [
    "ref = [[5046.37353515625, 5120.1171875],\n",
    " [5106.373046875, 5104.00390625],\n",
    " [5150.29638671875, 5060.05859375],\n",
    " [5166.3740234375, 5000.0],\n",
    " [5150.29638671875, 4939.94140625],\n",
    " [5106.373046875, 4895.99609375],\n",
    " [5046.37353515625, 4879.8828125],\n",
    " [4986.37353515625, 4895.99609375],\n",
    " [4942.4501953125, 4939.94140625],\n",
    " [4926.373046875, 5000.0],\n",
    " [4942.4501953125, 5060.05859375],\n",
    " [4986.37353515625, 5104.00390625]]"
   ]
  },
  {
   "cell_type": "code",
   "execution_count": 19,
   "metadata": {},
   "outputs": [
    {
     "data": {
      "text/plain": [
       "array([[0., 0.],\n",
       "       [0., 0.],\n",
       "       [0., 0.],\n",
       "       [0., 0.],\n",
       "       [0., 0.],\n",
       "       [0., 0.],\n",
       "       [0., 0.],\n",
       "       [0., 0.],\n",
       "       [0., 0.],\n",
       "       [0., 0.],\n",
       "       [0., 0.],\n",
       "       [0., 0.]])"
      ]
     },
     "execution_count": 19,
     "metadata": {},
     "output_type": "execute_result"
    }
   ],
   "source": [
    "np.array(reference_points) - np.array(ref)"
   ]
  }
 ],
 "metadata": {
  "kernelspec": {
   "display_name": "Python 3.7.12 ('gpuocean')",
   "language": "python",
   "name": "python3"
  },
  "language_info": {
   "codemirror_mode": {
    "name": "ipython",
    "version": 3
   },
   "file_extension": ".py",
   "mimetype": "text/x-python",
   "name": "python",
   "nbconvert_exporter": "python",
   "pygments_lexer": "ipython3",
   "version": "3.7.12"
  },
  "vscode": {
   "interpreter": {
    "hash": "8f2533c4321717d78a0dea0f22364144e61e5e875423e1d8df93e4f8589bdcaa"
   }
  }
 },
 "nbformat": 4,
 "nbformat_minor": 4
}
